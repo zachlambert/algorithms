{
 "cells": [
  {
   "cell_type": "markdown",
   "metadata": {},
   "source": [
    "# Sorting algorithms\n",
    "\n",
    "## Comments\n",
    "\n",
    "Sorting algorithms can be one of:\n",
    "- Internal: Items are moved around in place, requiring not additional memory to be allocated.\n",
    "- External: The procedure requires additional memory, to store information used in the sorting.\n",
    "\n",
    "Any algorithm which is recursive can be converted to an equivalent iterative algorithm.<br>\n",
    "(see example below)\n",
    "\n",
    "## Bubblesort\n",
    "\n",
    "Algorithm:\n",
    "\n",
    "Iterate through the list, compare adjacent items, $x_i$ and $x_{i+1}$.\n",
    "Swap the items if $x_i > x_{i+1}$ such that the larger value is later.\n",
    "\n",
    "Order:\n",
    "\n",
    "- Worst case = $O(n^2)$: Each pass puts just one element in the correct place, resulting in n passes, iterating over n items, giving $O(n^2)$.\n",
    "- Best case = $O(n)$: The first pass puts every element in the correct place.\n",
    "- Average case = $O(n^2)$\n",
    "\n",
    "## Quicksort\n",
    "\n",
    "Algorithm:\n",
    "\n",
    "Pick the middle item of the array, which acts a pivot. Then compare the remaining values in the array with the pivot, splitting them into an array for smaller values and array for larger values.<br>\n",
    "Sort the smaller and larger arrays in the same way, then append the smaller array, middle value and larger array. <br>\n",
    "Sorting stops when an array reaches length 1, so doesn't need sorting."
   ]
  },
  {
   "cell_type": "code",
   "execution_count": 1,
   "metadata": {},
   "outputs": [],
   "source": [
    "# 3 functions for computing the factorial of a number\n",
    "\n",
    "def factorial_recursive(n):\n",
    "    if n<=1:\n",
    "        return 1\n",
    "    else:\n",
    "        return n * factorial_recursive(n-1)\n",
    "    \n",
    "def factorial_tail_recursive(n):\n",
    "    def iterate(n, product):\n",
    "        if n<=1:\n",
    "            return product\n",
    "        else:\n",
    "            return iterate(n-1, product*n)\n",
    "    return iterate(n, 1)\n",
    "\n",
    "def factorial_iterative(n):\n",
    "    product = 1\n",
    "    while n>1:\n",
    "        product*=n\n",
    "        n-=1\n",
    "    return product"
   ]
  },
  {
   "cell_type": "markdown",
   "metadata": {},
   "source": [
    "### Comments on the above\n",
    "\n",
    "<code>factorial_recursive</code> is a recursive function and produces a recursive process.\n",
    "In the line <code>return n * factorial_recursive(n-1)</code>, the program must keep track of what n is, evaluate\n",
    "factorial_recursive(n-1) then return the product.\n",
    "\n",
    "<code>factorial_tail_recursive</code> is also a recursive function but the process is iterative. <br>\n",
    "In the line <code>return iterate(n-1, product*n)</code>, no information needs to be kept track of, the relevant variables are passed to the next iteration. <br>\n",
    "These variables define the state of the iteration and are all the information required to compute the next step. <br>\n",
    "Although the function is recursive, it should still occupy a constant amount of memory. However, for most languages,\n",
    "any recursive function will occupy an increasing amount of memory, even if it is tail-recursive, and hence\n",
    "produces an iterative process.\n",
    "\n",
    "To get around iterative processes using increasing memory, languages use looping constructs like for or loop.\n",
    "The <code>function factorial_iterative</code> is equivalent to <code>factorial_tail_recursive</code>, except that it uses a while loop and stores the state variables as local variables, instead of passing the state variables between function calls.\n",
    "\n",
    "<code>factorial_tail_recursive :</code>\n",
    "- Initialises the process by calling iterate(n, 1)\n",
    "- Passes state variables to the next iteration by iterate(n-1, product*n)\n",
    "- Stops iteration on the condition n<=1, where it returns the current value of product\n",
    "\n",
    "<code>factorial_iterative :</code>\n",
    "- Initialises the process, from the value of the argument n, and by initialising product as 1\n",
    "- Passes state variables to the next iteration by keeping them stored in memory within the function\n",
    "- Stops iteration on the condition n<=1, where product is left as it is, and is returned"
   ]
  },
  {
   "cell_type": "code",
   "execution_count": 14,
   "metadata": {},
   "outputs": [],
   "source": [
    "import time\n",
    "import matplotlib.pyplot as plt\n",
    "import numpy as np\n",
    "\n",
    "class Tester:\n",
    "    def __init__(self, max_n, num_samples):\n",
    "        self.max_n = max_n\n",
    "        self.num_samples = num_samples\n",
    "    def generate(self, n):\n",
    "        for i in range(self.num_samples):\n",
    "            yield self.generate_single(n)\n",
    "\n",
    "    def generate_single(self, n):\n",
    "        raise NotImplemented('Tester child must implment generate_single')\n",
    "        \n",
    "class ListTester(Tester):\n",
    "    def generate_single(self, n):\n",
    "        int_range = self.max_n*3\n",
    "        return np.random.randint(0, high=int_range, size=n)\n",
    "    \n",
    "        \n",
    "def time_function(func, x):\n",
    "    start = time.time()\n",
    "    func(x)\n",
    "    end = time.time()\n",
    "    return end - start\n",
    "\n",
    "def plot_function_time(func, tester, label):\n",
    "    sizes = np.zeros(tester.max_n-1)\n",
    "    times = np.zeros(tester.max_n-1)\n",
    "    stds = np.zeros(tester.max_n-1)\n",
    "    for n in range(1, tester.max_n):\n",
    "        sizes[n-1] = n\n",
    "        samples = [time_function(func, x) for x in tester.generate(n)]\n",
    "        times[n-1] = np.mean(samples)\n",
    "        stds[n-1] = np.std(samples)\n",
    "    plt.plot(sizes, times, label=label)\n",
    "    plt.fill_between(x=sizes, y1=times-2*stds, y2=times+2*stds, alpha=0.2)\n",
    "        \n",
    "def plot_orders(orders):\n",
    "    order_funcs = {\"lnn\": lambda x: np.log(x),\n",
    "                   \"nlnn\": lambda x: x*np.log(x)}\n",
    "    max_x = plt.xlim()[1]\n",
    "    max_y = plt.ylim()[1]\n",
    "    x = np.arange(1, max_x)\n",
    "    for order in orders:\n",
    "        func = None\n",
    "        label = \"\"\n",
    "        if type(order)==int:\n",
    "            func = lambda x: x**order\n",
    "            label = \"n**{}\".format(order)\n",
    "        else:\n",
    "            func = order_funcs[order]\n",
    "            label = order\n",
    "        y = func(x)\n",
    "        y *= max_y/y[-1]\n",
    "        plt.plot(x, y, label=label, linestyle=':')\n",
    "        \n",
    "def random_integers(n):\n",
    "    rand_range = 3*n\n",
    "    array = np.zeros(n)\n",
    "    for i in range(array.size):\n",
    "        array[i] = np.random.randint(rand_range)\n",
    "    return array"
   ]
  },
  {
   "cell_type": "code",
   "execution_count": 10,
   "metadata": {},
   "outputs": [
    {
     "data": {
      "text/plain": [
       "[-1, 1, 2, 3, 5, 5, 12, 123]"
      ]
     },
     "execution_count": 10,
     "metadata": {},
     "output_type": "execute_result"
    }
   ],
   "source": [
    "# Bubble sort\n",
    "\n",
    "def bubblesort(x):\n",
    "    x = x.copy()\n",
    "    swapped = True\n",
    "    end = len(x)-1\n",
    "    while swapped and end!=0:\n",
    "        swapped = False\n",
    "        for i in range(0, end):\n",
    "            if x[i] > x[i+1]:\n",
    "                first = x[i]\n",
    "                x[i] = x[i+1]\n",
    "                x[i+1] = first\n",
    "                swapped = True\n",
    "        end-=1\n",
    "    return x\n",
    "\n",
    "x = [1, 5, 3, 2, 5, 12, -1, 123]\n",
    "bubblesort(x)"
   ]
  },
  {
   "cell_type": "code",
   "execution_count": 11,
   "metadata": {},
   "outputs": [
    {
     "data": {
      "text/plain": [
       "[-1, 1, 2, 3, 5, 5, 12, 123]"
      ]
     },
     "execution_count": 11,
     "metadata": {},
     "output_type": "execute_result"
    }
   ],
   "source": [
    "# Recursive Quicksort\n",
    "\n",
    "def quicksort_recursive(x):\n",
    "    if len(x)<=1:\n",
    "        return x\n",
    "    mid_i = len(x)//2-1\n",
    "    mid = x[mid_i]\n",
    "    lower, higher = [], []\n",
    "    for i in range(len(x)):\n",
    "        if i==mid_i:\n",
    "            continue\n",
    "        if x[i]<mid:\n",
    "            lower.append(x[i])\n",
    "        else:\n",
    "            higher.append(x[i])\n",
    "    return quicksort_recursive(lower) + [mid] + quicksort_recursive(higher)\n",
    "\n",
    "quicksort_recursive(x)"
   ]
  },
  {
   "cell_type": "code",
   "execution_count": 6,
   "metadata": {},
   "outputs": [
    {
     "data": {
      "text/plain": [
       "[-1, 1, 2, 3, 5, 5, 12, 123]"
      ]
     },
     "execution_count": 6,
     "metadata": {},
     "output_type": "execute_result"
    }
   ],
   "source": [
    "# Iterative Quicksort\n",
    "\n",
    "def quicksort_iterative(array):\n",
    "    xs = [array]\n",
    "    while len(xs)<len(array):\n",
    "        for i in range(len(xs)):\n",
    "            x = xs[i]\n",
    "            if len(x)<=1:\n",
    "                continue\n",
    "            mid_i = len(x)//2 - 1\n",
    "            mid = x[mid_i]\n",
    "            lower, upper = [], []\n",
    "            for j in range(len(x)):\n",
    "                if j==mid_i:\n",
    "                    continue\n",
    "                if x[j]<mid:\n",
    "                    lower.append(x[j])\n",
    "                else:\n",
    "                    upper.append(x[j])\n",
    "            xs.pop(i)\n",
    "            if len(upper)>0:\n",
    "                xs.insert(i, upper)\n",
    "            xs.insert(i, [mid])\n",
    "            if len(lower)>0:\n",
    "                xs.insert(i, lower)\n",
    "    return [x[0] for x in xs]\n",
    "            \n",
    "quicksort_iterative(x)"
   ]
  },
  {
   "cell_type": "code",
   "execution_count": 7,
   "metadata": {},
   "outputs": [
    {
     "data": {
      "text/plain": [
       "[-1, 1, 2, 3, 5, 5, 12, 123]"
      ]
     },
     "execution_count": 7,
     "metadata": {},
     "output_type": "execute_result"
    }
   ],
   "source": [
    "def selection_sort(x):\n",
    "    x = x.copy()\n",
    "    for i in range( len(x)):\n",
    "        min_i = i\n",
    "        for j in range(i+1, len(x)):\n",
    "            if x[j]<x[min_i]:\n",
    "                min_i = j\n",
    "        first = x[i]\n",
    "        x[i] = x[min_i]\n",
    "        x[min_i] = first\n",
    "    return x\n",
    "\n",
    "selection_sort(x)"
   ]
  },
  {
   "cell_type": "code",
   "execution_count": 19,
   "metadata": {
    "scrolled": false
   },
   "outputs": [
    {
     "data": {
      "text/plain": [
       "<matplotlib.legend.Legend at 0x7f440b63b6a0>"
      ]
     },
     "execution_count": 19,
     "metadata": {},
     "output_type": "execute_result"
    },
    {
     "data": {
      "image/png": "[encoded data removed]",
      "text/plain": [
       "<Figure size 432x288 with 1 Axes>"
      ]
     },
     "metadata": {
      "needs_background": "light"
     },
     "output_type": "display_data"
    }
   ],
   "source": [
    "plot_function_time(bubblesort, ListTester(100, 20), 'bubblesort')\n",
    "plot_function_time(quicksort_recursive, ListTester(100, 20), 'recursive quicksort')\n",
    "plot_function_time(quicksort_iterative, ListTester(100, 20), 'iterative quicksort')\n",
    "plot_function_time(selection_sort, ListTester(100, 20), 'selection sort')\n",
    "#plot_orders([1, 2, 'nlnn'])\n",
    "plt.legend()"
   ]
  }
 ],
 "metadata": {
  "kernelspec": {
   "display_name": "Python 3",
   "language": "python",
   "name": "python3"
  },
  "language_info": {
   "codemirror_mode": {
    "name": "ipython",
    "version": 3
   },
   "file_extension": ".py",
   "mimetype": "text/x-python",
   "name": "python",
   "nbconvert_exporter": "python",
   "pygments_lexer": "ipython3",
   "version": "3.7.3"
  }
 },
 "nbformat": 4,
 "nbformat_minor": 2
}
