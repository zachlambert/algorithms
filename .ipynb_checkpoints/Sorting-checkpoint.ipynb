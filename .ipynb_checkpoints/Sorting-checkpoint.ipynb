{
 "cells": [
  {
   "cell_type": "code",
   "execution_count": 91,
   "metadata": {},
   "outputs": [],
   "source": [
    "import time\n",
    "import matplotlib.pyplot as plt\n",
    "import numpy as np\n",
    "\n",
    "class Tester:\n",
    "    def __init__(self, num, num_samples):\n",
    "        self.num = num\n",
    "        self.num_samples = num_samples\n",
    "    def generate(self, n):\n",
    "        samples = []\n",
    "        for i in range(self.num_samples):\n",
    "            samples.append(self.make(n))\n",
    "        \n",
    "class ListTester(Tester):\n",
    "    def generate(self, n):\n",
    "        int_range = self.num*3\n",
    "        return np.random.randint(0, high=int_range, size=n)\n",
    "    \n",
    "        \n",
    "def time_function(func, x):\n",
    "    start = time.time()\n",
    "    func(x)\n",
    "    end = time.time()\n",
    "    return end - start\n",
    "\n",
    "def plot_function_time(func, tester, label):\n",
    "    sizes = np.zeros(tester.num-1)\n",
    "    times = np.zeros(tester.num-1)\n",
    "    stds = np.zeros(tester.num-1)\n",
    "    for n in range(1, tester.num):\n",
    "        sizes[n-1] = n\n",
    "        samples = tester.generate(n)\n",
    "        times[n-1] = np.mean(samples)\n",
    "        stds[n-1] = np.std(samples)\n",
    "    plt.plot(sizes, times, label=label)\n",
    "    plt.fill_between(x=sizes, y1=times-stds, y2=times+stds, alpha=0.2)\n",
    "        \n",
    "def plot_orders(orders):\n",
    "    order_funcs = {\"lnn\": lambda x: np.log(x),\n",
    "                   \"nlnn\": lambda x: x*np.log(x)}\n",
    "    max_x = plt.xlim()[1]\n",
    "    max_y = plt.ylim()[1]\n",
    "    x = np.arange(1, max_x)\n",
    "    for order in orders:\n",
    "        func = None\n",
    "        label = \"\"\n",
    "        if type(order)==int:\n",
    "            func = lambda x: x**order\n",
    "            label = \"n**{}\".format(order)\n",
    "        else:\n",
    "            func = order_funcs[order]\n",
    "            label = order\n",
    "        y = func(x)\n",
    "        y *= max_y/y[-1]\n",
    "        plt.plot(x, y, label=label, linestyle=':')\n",
    "        \n",
    "def random_integers(n):\n",
    "    rand_range = 3*n\n",
    "    array = np.zeros(n)\n",
    "    for i in range(array.size):\n",
    "        array[i] = np.random.randint(rand_range)\n",
    "    return array"
   ]
  },
  {
   "cell_type": "code",
   "execution_count": 92,
   "metadata": {},
   "outputs": [],
   "source": [
    "# Bubble sort"
   ]
  },
  {
   "cell_type": "code",
   "execution_count": 93,
   "metadata": {},
   "outputs": [
    {
     "data": {
      "text/plain": [
       "[-1, 1, 2, 3, 5, 5, 12, 123]"
      ]
     },
     "execution_count": 93,
     "metadata": {},
     "output_type": "execute_result"
    }
   ],
   "source": [
    "# Recursive Quicksort\n",
    "\n",
    "def quicksort_recursive(x):\n",
    "    if len(x)<=1:\n",
    "        return x\n",
    "    mid_i = len(x)//2-1\n",
    "    mid = x[mid_i]\n",
    "    lower, higher = [], []\n",
    "    for i in range(len(x)):\n",
    "        if i==mid_i:\n",
    "            continue\n",
    "        if x[i]<mid:\n",
    "            lower.append(x[i])\n",
    "        else:\n",
    "            higher.append(x[i])\n",
    "    return quicksort_recursive(lower) + [mid] + quicksort_recursive(higher)\n",
    "\n",
    "x = [1, 5, 3, 2, 5, 12, -1, 123]\n",
    "quicksort_recursive(x)"
   ]
  },
  {
   "cell_type": "code",
   "execution_count": 94,
   "metadata": {},
   "outputs": [
    {
     "data": {
      "text/plain": [
       "[-1, 1, 2, 3, 5, 5, 12, 123]"
      ]
     },
     "execution_count": 94,
     "metadata": {},
     "output_type": "execute_result"
    }
   ],
   "source": [
    "# Iterative Quicksort\n",
    "\n",
    "def quicksort_iterative(array):\n",
    "    xs = [array]\n",
    "    while len(xs)<len(array):\n",
    "        for i in range(len(xs)):\n",
    "            x = xs[i]\n",
    "            if len(x)<=1:\n",
    "                continue\n",
    "            mid_i = len(x)//2 - 1\n",
    "            mid = x[mid_i]\n",
    "            lower, upper = [], []\n",
    "            for j in range(len(x)):\n",
    "                if j==mid_i:\n",
    "                    continue\n",
    "                if x[j]<mid:\n",
    "                    lower.append(x[j])\n",
    "                else:\n",
    "                    upper.append(x[j])\n",
    "            xs.pop(i)\n",
    "            if len(upper)>0:\n",
    "                xs.insert(i, upper)\n",
    "            xs.insert(i, [mid])\n",
    "            if len(lower)>0:\n",
    "                xs.insert(i, lower)\n",
    "    return [x[0] for x in xs]\n",
    "            \n",
    "quicksort_iterative(x)"
   ]
  },
  {
   "cell_type": "code",
   "execution_count": 95,
   "metadata": {},
   "outputs": [
    {
     "ename": "NameError",
     "evalue": "name 'num_samples' is not defined",
     "output_type": "error",
     "traceback": [
      "\u001b[0;31m---------------------------------------------------------------------------\u001b[0m",
      "\u001b[0;31mNameError\u001b[0m                                 Traceback (most recent call last)",
      "\u001b[0;32m<ipython-input-95-fdc6e7761561>\u001b[0m in \u001b[0;36m<module>\u001b[0;34m\u001b[0m\n\u001b[0;32m----> 1\u001b[0;31m \u001b[0mplot_function_time\u001b[0m\u001b[0;34m(\u001b[0m\u001b[0mquicksort_recursive\u001b[0m\u001b[0;34m,\u001b[0m \u001b[0mListTester\u001b[0m\u001b[0;34m(\u001b[0m\u001b[0;36m100\u001b[0m\u001b[0;34m,\u001b[0m \u001b[0;36m100\u001b[0m\u001b[0;34m)\u001b[0m\u001b[0;34m,\u001b[0m \u001b[0;34m'recursive quicksort'\u001b[0m\u001b[0;34m)\u001b[0m\u001b[0;34m\u001b[0m\u001b[0;34m\u001b[0m\u001b[0m\n\u001b[0m\u001b[1;32m      2\u001b[0m \u001b[0mplot_function_time\u001b[0m\u001b[0;34m(\u001b[0m\u001b[0mquicksort_iterative\u001b[0m\u001b[0;34m,\u001b[0m \u001b[0mListTester\u001b[0m\u001b[0;34m(\u001b[0m\u001b[0;36m100\u001b[0m\u001b[0;34m,\u001b[0m \u001b[0;36m100\u001b[0m\u001b[0;34m)\u001b[0m\u001b[0;34m,\u001b[0m \u001b[0;34m'iterative quicksort'\u001b[0m\u001b[0;34m)\u001b[0m\u001b[0;34m\u001b[0m\u001b[0;34m\u001b[0m\u001b[0m\n\u001b[1;32m      3\u001b[0m \u001b[0mplt\u001b[0m\u001b[0;34m.\u001b[0m\u001b[0mlegend\u001b[0m\u001b[0;34m(\u001b[0m\u001b[0;34m)\u001b[0m\u001b[0;34m\u001b[0m\u001b[0;34m\u001b[0m\u001b[0m\n",
      "\u001b[0;32m<ipython-input-91-9511c3810432>\u001b[0m in \u001b[0;36mplot_function_time\u001b[0;34m(func, tester, label)\u001b[0m\n\u001b[1;32m     32\u001b[0m         \u001b[0;32melse\u001b[0m\u001b[0;34m:\u001b[0m\u001b[0;34m\u001b[0m\u001b[0;34m\u001b[0m\u001b[0m\n\u001b[1;32m     33\u001b[0m             samples = [time_function(func, x) for x in\n\u001b[0;32m---> 34\u001b[0;31m                        (tester.generate(n) for i in range(num_samples))]\n\u001b[0m\u001b[1;32m     35\u001b[0m             \u001b[0mtimes\u001b[0m\u001b[0;34m[\u001b[0m\u001b[0mn\u001b[0m\u001b[0;34m-\u001b[0m\u001b[0;36m1\u001b[0m\u001b[0;34m]\u001b[0m \u001b[0;34m=\u001b[0m \u001b[0mnp\u001b[0m\u001b[0;34m.\u001b[0m\u001b[0mmean\u001b[0m\u001b[0;34m(\u001b[0m\u001b[0msamples\u001b[0m\u001b[0;34m)\u001b[0m\u001b[0;34m\u001b[0m\u001b[0;34m\u001b[0m\u001b[0m\n\u001b[1;32m     36\u001b[0m             \u001b[0mstds\u001b[0m\u001b[0;34m[\u001b[0m\u001b[0mn\u001b[0m\u001b[0;34m-\u001b[0m\u001b[0;36m1\u001b[0m\u001b[0;34m]\u001b[0m \u001b[0;34m=\u001b[0m \u001b[0mnp\u001b[0m\u001b[0;34m.\u001b[0m\u001b[0mstd\u001b[0m\u001b[0;34m(\u001b[0m\u001b[0msamples\u001b[0m\u001b[0;34m)\u001b[0m\u001b[0;34m\u001b[0m\u001b[0;34m\u001b[0m\u001b[0m\n",
      "\u001b[0;31mNameError\u001b[0m: name 'num_samples' is not defined"
     ]
    }
   ],
   "source": [
    "plot_function_time(quicksort_recursive, ListTester(100, 100), 'recursive quicksort')\n",
    "plot_function_time(quicksort_iterative, ListTester(100, 100), 'iterative quicksort')\n",
    "plt.legend()"
   ]
  }
 ],
 "metadata": {
  "kernelspec": {
   "display_name": "Python 3",
   "language": "python",
   "name": "python3"
  },
  "language_info": {
   "codemirror_mode": {
    "name": "ipython",
    "version": 3
   },
   "file_extension": ".py",
   "mimetype": "text/x-python",
   "name": "python",
   "nbconvert_exporter": "python",
   "pygments_lexer": "ipython3",
   "version": "3.6.8"
  }
 },
 "nbformat": 4,
 "nbformat_minor": 2
}
